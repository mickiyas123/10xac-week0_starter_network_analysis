{
 "cells": [
  {
   "cell_type": "code",
   "execution_count": 24,
   "id": "0b3741fd-ee90-4aa7-972a-94a309059302",
   "metadata": {},
   "outputs": [],
   "source": [
    "import json\n",
    "from faker import Faker\n",
    "from faker.config import AVAILABLE_LOCALES\n",
    "fake = Faker('zu_ZA')\n",
    "names = []\n",
    "\n",
    "with open(\"../anonymized/users.json\") as file:\n",
    "    data = json.load(file)\n",
    "\n",
    "    for user in data:\n",
    "        if 'name' in user:\n",
    "            names.append(user['name'])\n",
    "# name extracted from json file\n",
    "names\n",
    "# fake names generated wi\n",
    "fake_names  = [fake.first_name() for i in range(len(names))]"
   ]
  },
  {
   "cell_type": "code",
   "execution_count": null,
   "id": "aaa77fc2-aa29-45ad-8960-d296d6e8f9aa",
   "metadata": {},
   "outputs": [],
   "source": []
  }
 ],
 "metadata": {
  "kernelspec": {
   "display_name": "Python 3 (ipykernel)",
   "language": "python",
   "name": "python3"
  },
  "language_info": {
   "codemirror_mode": {
    "name": "ipython",
    "version": 3
   },
   "file_extension": ".py",
   "mimetype": "text/x-python",
   "name": "python",
   "nbconvert_exporter": "python",
   "pygments_lexer": "ipython3",
   "version": "3.10.13"
  }
 },
 "nbformat": 4,
 "nbformat_minor": 5
}
