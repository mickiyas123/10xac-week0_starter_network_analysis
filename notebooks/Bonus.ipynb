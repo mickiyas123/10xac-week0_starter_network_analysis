{
 "cells": [
  {
   "cell_type": "code",
   "execution_count": 13,
   "id": "0b3741fd-ee90-4aa7-972a-94a309059302",
   "metadata": {},
   "outputs": [
    {
     "name": "stdout",
     "output_type": "stream",
     "text": [
      "['Carlos', 'Garrett', 'Bethany', 'Luis', 'Nicole', 'Joshua', 'Steven', 'Joseph', 'Robert', 'Cheryl', 'Allison', 'Katherine', 'John', 'Nicholas', 'Anita', 'Gary', 'Erica', 'Michael', 'Elizabeth', 'Ryan', 'Randy', 'Brady', 'Dana', 'Patricia', 'Glen', 'Blake', 'Miguel', 'Anthony', 'Christopher', 'Willie', 'Daniel', 'Carol', 'Jennifer', 'April', 'Phillip', 'Melissa', 'Nancy', 'Dustin', 'Brenda', 'Holly', 'Yvonne', 'Vernon', 'Judith', 'Katie', 'Kelly', 'Brian', 'Michelle', 'Claudia', 'Leah', 'Brittany', 'Samantha', 'Michele', 'David', 'Veronica', 'Samuel', 'Eric', 'Mark', 'Amy', 'Jodi', 'Travis', 'Patrick', 'Vanessa', 'Debra', 'Paula', 'Cristian', 'Ashley', 'Mandy', 'Paul', 'Kathleen', 'Kenneth', 'Audrey']\n"
     ]
    }
   ],
   "source": [
    "import json\n",
    "from faker import Faker\n",
    "fake = Faker\n",
    "names = []\n",
    "\n",
    "with open(\"../anonymized/users.json\") as file:\n",
    "    data = json.load(file)\n",
    "\n",
    "    for user in data:\n",
    "        if 'name' in user:\n",
    "            names.append(user['name'])"
   ]
  },
  {
   "cell_type": "code",
   "execution_count": null,
   "id": "aaa77fc2-aa29-45ad-8960-d296d6e8f9aa",
   "metadata": {},
   "outputs": [],
   "source": []
  }
 ],
 "metadata": {
  "kernelspec": {
   "display_name": "Python 3 (ipykernel)",
   "language": "python",
   "name": "python3"
  },
  "language_info": {
   "codemirror_mode": {
    "name": "ipython",
    "version": 3
   },
   "file_extension": ".py",
   "mimetype": "text/x-python",
   "name": "python",
   "nbconvert_exporter": "python",
   "pygments_lexer": "ipython3",
   "version": "3.10.13"
  }
 },
 "nbformat": 4,
 "nbformat_minor": 5
}
