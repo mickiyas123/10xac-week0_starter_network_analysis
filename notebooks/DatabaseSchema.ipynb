{
 "cells": [
  {
   "cell_type": "code",
   "execution_count": 22,
   "id": "b1edf0c1-25cd-4567-b002-f1493e6bb0eb",
   "metadata": {},
   "outputs": [],
   "source": [
    "import psycopg2\n",
    "from psycopg2 import sql\n",
    "from psycopg2.extensions import ISOLATION_LEVEL_AUTOCOMMIT"
   ]
  },
  {
   "cell_type": "code",
   "execution_count": 15,
   "id": "fc6bdcb4-68f6-4539-b49a-ff520f4c1443",
   "metadata": {},
   "outputs": [],
   "source": [
    "# password and user shouldn't be available in public this is just for practice\n",
    "db_params = {\n",
    "    'host': '127.0.0.1',\n",
    "    'user': 'postgres',\n",
    "    'password': '123',\n",
    "    'port': '5467'\n",
    "}"
   ]
  },
  {
   "cell_type": "code",
   "execution_count": 23,
   "id": "0f80f0bb-d53d-4360-8f2b-e3c3cd1a31de",
   "metadata": {},
   "outputs": [],
   "source": [
    "connection = psycopg2.connect(**db_params)"
   ]
  },
  {
   "cell_type": "code",
   "execution_count": 24,
   "id": "f88f6fc0-f1ea-41a6-8ffe-387e16441e8b",
   "metadata": {},
   "outputs": [],
   "source": [
    "connection.set_isolation_level(ISOLATION_LEVEL_AUTOCOMMIT)"
   ]
  },
  {
   "cell_type": "code",
   "execution_count": 25,
   "id": "5752404a-f088-4ae9-9812-ca3ea18dee25",
   "metadata": {},
   "outputs": [],
   "source": [
    "cursor = connection.cursor()"
   ]
  },
  {
   "cell_type": "code",
   "execution_count": 26,
   "id": "56eebeeb-d3c9-4fa7-b162-d6ab593a9499",
   "metadata": {},
   "outputs": [],
   "source": [
    "db_name = 'week_0'"
   ]
  },
  {
   "cell_type": "code",
   "execution_count": 27,
   "id": "46eda74a-f1cc-4d30-aef7-435fcc8e39e3",
   "metadata": {},
   "outputs": [],
   "source": [
    "quoted_db_name = sql.Identifier(db_name)"
   ]
  },
  {
   "cell_type": "code",
   "execution_count": 28,
   "id": "7f133f5a-1165-4fc0-bc0a-e1e3070ea34c",
   "metadata": {},
   "outputs": [],
   "source": [
    "create_db_query = sql.SQL(\"CREATE DATABASE {}\").format(quoted_db_name)"
   ]
  },
  {
   "cell_type": "code",
   "execution_count": 29,
   "id": "5c113b4a-f5f2-4dc2-9edf-fa2d9ad46595",
   "metadata": {},
   "outputs": [],
   "source": [
    "cursor.execute(create_db_query)"
   ]
  }
 ],
 "metadata": {
  "kernelspec": {
   "display_name": "Python 3 (ipykernel)",
   "language": "python",
   "name": "python3"
  },
  "language_info": {
   "codemirror_mode": {
    "name": "ipython",
    "version": 3
   },
   "file_extension": ".py",
   "mimetype": "text/x-python",
   "name": "python",
   "nbconvert_exporter": "python",
   "pygments_lexer": "ipython3",
   "version": "3.10.13"
  }
 },
 "nbformat": 4,
 "nbformat_minor": 5
}
