{
 "cells": [
  {
   "cell_type": "code",
   "execution_count": 32,
   "id": "b1edf0c1-25cd-4567-b002-f1493e6bb0eb",
   "metadata": {},
   "outputs": [],
   "source": [
    "import os, sys\n",
    "import re\n",
    "import json\n",
    "import glob\n",
    "import psycopg2\n",
    "from psycopg2 import sql\n",
    "from psycopg2.extensions import ISOLATION_LEVEL_AUTOCOMMIT\n",
    "from sqlalchemy import create_engine"
   ]
  },
  {
   "cell_type": "code",
   "execution_count": 35,
   "id": "3efc064a-dc83-4884-8b0c-17e79584e42d",
   "metadata": {},
   "outputs": [],
   "source": [
    "rpath = os.path.abspath('..')\n",
    "if rpath not in sys.path:\n",
    "    sys.path.insert(0, rpath)\n",
    "\n",
    "from src.loader import SlackDataLoader\n",
    "import src.utils as utils"
   ]
  },
  {
   "cell_type": "markdown",
   "id": "4338aa3f-df3b-4d2c-906f-d42d6dee90c5",
   "metadata": {},
   "source": [
    "## This is for creating a database uisng psycopg2"
   ]
  },
  {
   "cell_type": "code",
   "execution_count": 15,
   "id": "fc6bdcb4-68f6-4539-b49a-ff520f4c1443",
   "metadata": {},
   "outputs": [],
   "source": [
    "# password and user shouldn't be available in public this is just for practice\n",
    "# Todo: don't create databse if it exists\n",
    "db_params = {\n",
    "    'host': '127.0.0.1',\n",
    "    'user': 'postgres',\n",
    "    'password': '123',\n",
    "    'port': '5467'\n",
    "}\n",
    "connection = psycopg2.connect(**db_params)\n",
    "connection.set_isolation_level(ISOLATION_LEVEL_AUTOCOMMIT)\n",
    "cursor = connection.cursor()\n",
    "db_name = 'week_0'\n",
    "quoted_db_name = sql.Identifier(db_name)\n",
    "create_db_query = sql.SQL(\"CREATE DATABASE {}\").format(quoted_db_name)\n",
    "cursor.execute(create_db_query)"
   ]
  },
  {
   "cell_type": "markdown",
   "id": "6034844d-2fee-44a2-a0d2-e73c50491098",
   "metadata": {},
   "source": [
    "## This is for creating a table using schema file using psycopg2"
   ]
  },
  {
   "cell_type": "code",
   "execution_count": 24,
   "id": "f88f6fc0-f1ea-41a6-8ffe-387e16441e8b",
   "metadata": {},
   "outputs": [],
   "source": [
    "# Todo: the schema file need to be updated to reflect the whole structure\n",
    "# few column are choosen for simplicity"
   ]
  },
  {
   "cell_type": "code",
   "execution_count": 33,
   "id": "5752404a-f088-4ae9-9812-ca3ea18dee25",
   "metadata": {},
   "outputs": [],
   "source": [
    "db_params = {\n",
    "    'host': '127.0.0.1',\n",
    "    'user': 'postgres',\n",
    "    'password': '123',\n",
    "    'port': '5467',\n",
    "    'database': 'week_0'\n",
    "}"
   ]
  },
  {
   "cell_type": "code",
   "execution_count": 20,
   "id": "56eebeeb-d3c9-4fa7-b162-d6ab593a9499",
   "metadata": {},
   "outputs": [],
   "source": [
    "connection = psycopg2.connect(**db_params)\n",
    "connection.set_isolation_level(ISOLATION_LEVEL_AUTOCOMMIT)"
   ]
  },
  {
   "cell_type": "code",
   "execution_count": 21,
   "id": "46eda74a-f1cc-4d30-aef7-435fcc8e39e3",
   "metadata": {},
   "outputs": [],
   "source": [
    "cursor = connection.cursor()"
   ]
  },
  {
   "cell_type": "code",
   "execution_count": 22,
   "id": "7f133f5a-1165-4fc0-bc0a-e1e3070ea34c",
   "metadata": {},
   "outputs": [],
   "source": [
    "schema_file_path = 'schema.sql'"
   ]
  },
  {
   "cell_type": "code",
   "execution_count": 23,
   "id": "5c113b4a-f5f2-4dc2-9edf-fa2d9ad46595",
   "metadata": {},
   "outputs": [],
   "source": [
    "with open(schema_file_path, 'r') as schema_file:\n",
    "    schema_sql = schema_file.read()"
   ]
  },
  {
   "cell_type": "code",
   "execution_count": 24,
   "id": "51bf1760-edcd-4c93-8caa-64cd6833b301",
   "metadata": {},
   "outputs": [
    {
     "name": "stdout",
     "output_type": "stream",
     "text": [
      "Table created successfully.\n"
     ]
    }
   ],
   "source": [
    "cursor.execute(schema_sql)\n",
    "print(\"Table created successfully.\")\n",
    "\n",
    "# Close the cursor and connection\n",
    "cursor.close()\n",
    "connection.close()"
   ]
  },
  {
   "cell_type": "markdown",
   "id": "0624115f-8216-4656-8b9d-8b7a2b824f63",
   "metadata": {},
   "source": [
    "## Let's add data to the table using sqlalchemy and pandas"
   ]
  },
  {
   "cell_type": "code",
   "execution_count": 34,
   "id": "3123bef8-b7ce-4116-a6d4-cf4f50c746ff",
   "metadata": {},
   "outputs": [],
   "source": [
    "engine = create_engine(f\"postgresql+psycopg2://{db_params['user']}:{db_params['password']}@{db_params['host']}:{db_params['port']}/{db_params['database']}\")"
   ]
  },
  {
   "cell_type": "code",
   "execution_count": 37,
   "id": "b57ebd08-5478-4e83-a456-7863ba8213c4",
   "metadata": {},
   "outputs": [
    {
     "name": "stdout",
     "output_type": "stream",
     "text": [
      "\n",
      "Data saved to table 'messages' in the database.\n"
     ]
    }
   ],
   "source": [
    "# Please include the path to datafiles here for this code to work\n",
    "read_file = SlackDataLoader(\"../anonymized\")\n",
    "message_with_user = read_file.slack_parser(\"../anonymized/Week8and9/\")\n",
    "selected_columns = ['msg_type', 'sender_name', 'msg_dist_type', 'reply_count']\n",
    "df_selected = message_with_user[selected_columns]\n",
    "table_name = \"messages\"\n",
    "df_selected.to_sql(table_name, engine, index=False, if_exists='replace')\n",
    "print(f\"\\nData saved to table '{table_name}' in the database.\")"
   ]
  }
 ],
 "metadata": {
  "kernelspec": {
   "display_name": "Python 3 (ipykernel)",
   "language": "python",
   "name": "python3"
  },
  "language_info": {
   "codemirror_mode": {
    "name": "ipython",
    "version": 3
   },
   "file_extension": ".py",
   "mimetype": "text/x-python",
   "name": "python",
   "nbconvert_exporter": "python",
   "pygments_lexer": "ipython3",
   "version": "3.10.13"
  }
 },
 "nbformat": 4,
 "nbformat_minor": 5
}
